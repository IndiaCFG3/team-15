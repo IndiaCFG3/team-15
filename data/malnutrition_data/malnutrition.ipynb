{
 "metadata": {
  "language_info": {
   "codemirror_mode": {
    "name": "ipython",
    "version": 3
   },
   "file_extension": ".py",
   "mimetype": "text/x-python",
   "name": "python",
   "nbconvert_exporter": "python",
   "pygments_lexer": "ipython3",
   "version": "3.8.4-candidate"
  },
  "orig_nbformat": 2,
  "kernelspec": {
   "name": "python_defaultSpec_1597570696161",
   "display_name": "Python 3.8.4 64-bit"
  }
 },
 "nbformat": 4,
 "nbformat_minor": 2,
 "cells": [
  {
   "cell_type": "code",
   "execution_count": 1,
   "metadata": {},
   "outputs": [],
   "source": [
    "import pandas as pd"
   ]
  },
  {
   "cell_type": "code",
   "execution_count": 2,
   "metadata": {},
   "outputs": [],
   "source": [
    "df_raw = pd.read_csv('./malnutrition_country-wise-average.csv', encoding='utf-8')"
   ]
  },
  {
   "cell_type": "code",
   "execution_count": 3,
   "metadata": {},
   "outputs": [
    {
     "output_type": "execute_result",
     "data": {
      "text/plain": "(152, 8)"
     },
     "metadata": {},
     "execution_count": 3
    }
   ],
   "source": [
    "df_raw.shape"
   ]
  },
  {
   "cell_type": "code",
   "execution_count": 5,
   "metadata": {},
   "outputs": [
    {
     "output_type": "execute_result",
     "data": {
      "text/plain": "       Country  Income Classification  Severe Wasting    Wasting  Overweight  \\\n0  AFGHANISTAN                    0.0        3.033333  10.350000    5.125000   \n1      ALBANIA                    2.0        4.075000   7.760000   20.800000   \n2      ALGERIA                    2.0        2.733333   5.942857   12.833333   \n3       ANGOLA                    1.0        2.400000   6.933333    2.550000   \n4    ARGENTINA                    2.0        0.200000   2.150000   11.125000   \n\n    Stunting  Underweight  U5 Population ('000s)  \n0  47.775000    30.375000            4918.561500  \n1  24.160000     7.700000             232.859800  \n2  19.571429     7.342857            3565.213143  \n3  42.633333    23.600000            3980.054000  \n4  10.025000     2.600000            3613.651750  ",
      "text/html": "<div>\n<style scoped>\n    .dataframe tbody tr th:only-of-type {\n        vertical-align: middle;\n    }\n\n    .dataframe tbody tr th {\n        vertical-align: top;\n    }\n\n    .dataframe thead th {\n        text-align: right;\n    }\n</style>\n<table border=\"1\" class=\"dataframe\">\n  <thead>\n    <tr style=\"text-align: right;\">\n      <th></th>\n      <th>Country</th>\n      <th>Income Classification</th>\n      <th>Severe Wasting</th>\n      <th>Wasting</th>\n      <th>Overweight</th>\n      <th>Stunting</th>\n      <th>Underweight</th>\n      <th>U5 Population ('000s)</th>\n    </tr>\n  </thead>\n  <tbody>\n    <tr>\n      <th>0</th>\n      <td>AFGHANISTAN</td>\n      <td>0.0</td>\n      <td>3.033333</td>\n      <td>10.350000</td>\n      <td>5.125000</td>\n      <td>47.775000</td>\n      <td>30.375000</td>\n      <td>4918.561500</td>\n    </tr>\n    <tr>\n      <th>1</th>\n      <td>ALBANIA</td>\n      <td>2.0</td>\n      <td>4.075000</td>\n      <td>7.760000</td>\n      <td>20.800000</td>\n      <td>24.160000</td>\n      <td>7.700000</td>\n      <td>232.859800</td>\n    </tr>\n    <tr>\n      <th>2</th>\n      <td>ALGERIA</td>\n      <td>2.0</td>\n      <td>2.733333</td>\n      <td>5.942857</td>\n      <td>12.833333</td>\n      <td>19.571429</td>\n      <td>7.342857</td>\n      <td>3565.213143</td>\n    </tr>\n    <tr>\n      <th>3</th>\n      <td>ANGOLA</td>\n      <td>1.0</td>\n      <td>2.400000</td>\n      <td>6.933333</td>\n      <td>2.550000</td>\n      <td>42.633333</td>\n      <td>23.600000</td>\n      <td>3980.054000</td>\n    </tr>\n    <tr>\n      <th>4</th>\n      <td>ARGENTINA</td>\n      <td>2.0</td>\n      <td>0.200000</td>\n      <td>2.150000</td>\n      <td>11.125000</td>\n      <td>10.025000</td>\n      <td>2.600000</td>\n      <td>3613.651750</td>\n    </tr>\n  </tbody>\n</table>\n</div>"
     },
     "metadata": {},
     "execution_count": 5
    }
   ],
   "source": [
    "df_raw.head()"
   ]
  },
  {
   "cell_type": "code",
   "execution_count": 7,
   "metadata": {},
   "outputs": [],
   "source": [
    "df_malnutrition = df_raw[['Country', 'Severe Wasting', 'Wasting', 'Overweight', 'Stunting', 'Underweight']]"
   ]
  },
  {
   "cell_type": "code",
   "execution_count": 8,
   "metadata": {},
   "outputs": [
    {
     "output_type": "execute_result",
     "data": {
      "text/plain": "       Country  Severe Wasting    Wasting  Overweight   Stunting  Underweight\n0  AFGHANISTAN        3.033333  10.350000    5.125000  47.775000    30.375000\n1      ALBANIA        4.075000   7.760000   20.800000  24.160000     7.700000\n2      ALGERIA        2.733333   5.942857   12.833333  19.571429     7.342857\n3       ANGOLA        2.400000   6.933333    2.550000  42.633333    23.600000\n4    ARGENTINA        0.200000   2.150000   11.125000  10.025000     2.600000",
      "text/html": "<div>\n<style scoped>\n    .dataframe tbody tr th:only-of-type {\n        vertical-align: middle;\n    }\n\n    .dataframe tbody tr th {\n        vertical-align: top;\n    }\n\n    .dataframe thead th {\n        text-align: right;\n    }\n</style>\n<table border=\"1\" class=\"dataframe\">\n  <thead>\n    <tr style=\"text-align: right;\">\n      <th></th>\n      <th>Country</th>\n      <th>Severe Wasting</th>\n      <th>Wasting</th>\n      <th>Overweight</th>\n      <th>Stunting</th>\n      <th>Underweight</th>\n    </tr>\n  </thead>\n  <tbody>\n    <tr>\n      <th>0</th>\n      <td>AFGHANISTAN</td>\n      <td>3.033333</td>\n      <td>10.350000</td>\n      <td>5.125000</td>\n      <td>47.775000</td>\n      <td>30.375000</td>\n    </tr>\n    <tr>\n      <th>1</th>\n      <td>ALBANIA</td>\n      <td>4.075000</td>\n      <td>7.760000</td>\n      <td>20.800000</td>\n      <td>24.160000</td>\n      <td>7.700000</td>\n    </tr>\n    <tr>\n      <th>2</th>\n      <td>ALGERIA</td>\n      <td>2.733333</td>\n      <td>5.942857</td>\n      <td>12.833333</td>\n      <td>19.571429</td>\n      <td>7.342857</td>\n    </tr>\n    <tr>\n      <th>3</th>\n      <td>ANGOLA</td>\n      <td>2.400000</td>\n      <td>6.933333</td>\n      <td>2.550000</td>\n      <td>42.633333</td>\n      <td>23.600000</td>\n    </tr>\n    <tr>\n      <th>4</th>\n      <td>ARGENTINA</td>\n      <td>0.200000</td>\n      <td>2.150000</td>\n      <td>11.125000</td>\n      <td>10.025000</td>\n      <td>2.600000</td>\n    </tr>\n  </tbody>\n</table>\n</div>"
     },
     "metadata": {},
     "execution_count": 8
    }
   ],
   "source": [
    "df_malnutrition.head()"
   ]
  },
  {
   "cell_type": "code",
   "execution_count": 11,
   "metadata": {
    "tags": []
   },
   "outputs": [
    {
     "output_type": "stream",
     "name": "stderr",
     "text": "<ipython-input-11-0b4d6f045350>:1: SettingWithCopyWarning: \nA value is trying to be set on a copy of a slice from a DataFrame.\nTry using .loc[row_indexer,col_indexer] = value instead\n\nSee the caveats in the documentation: https://pandas.pydata.org/pandas-docs/stable/user_guide/indexing.html#returning-a-view-versus-a-copy\n  df_malnutrition['Total'] = df_malnutrition['Wasting'] + df_malnutrition['Severe Wasting'] + df_malnutrition['Overweight'] + df_malnutrition['Underweight']\n"
    }
   ],
   "source": [
    "df_malnutrition['Total'] = df_malnutrition['Wasting'] + df_malnutrition['Severe Wasting'] + df_malnutrition['Overweight'] + df_malnutrition['Underweight']"
   ]
  },
  {
   "cell_type": "code",
   "execution_count": 19,
   "metadata": {},
   "outputs": [
    {
     "output_type": "execute_result",
     "data": {
      "text/plain": "       Country  Severe Wasting  Wasting in %  Overweight   Stunting  \\\n0  AFGHANISTAN        3.033333     10.350000    5.125000  47.775000   \n1      ALBANIA        4.075000      7.760000   20.800000  24.160000   \n2      ALGERIA        2.733333      5.942857   12.833333  19.571429   \n3       ANGOLA        2.400000      6.933333    2.550000  42.633333   \n4    ARGENTINA        0.200000      2.150000   11.125000  10.025000   \n\n   Underweight      Total  \n0    30.375000  48.883333  \n1     7.700000  40.335000  \n2     7.342857  28.852381  \n3    23.600000  35.483333  \n4     2.600000  16.075000  ",
      "text/html": "<div>\n<style scoped>\n    .dataframe tbody tr th:only-of-type {\n        vertical-align: middle;\n    }\n\n    .dataframe tbody tr th {\n        vertical-align: top;\n    }\n\n    .dataframe thead th {\n        text-align: right;\n    }\n</style>\n<table border=\"1\" class=\"dataframe\">\n  <thead>\n    <tr style=\"text-align: right;\">\n      <th></th>\n      <th>Country</th>\n      <th>Severe Wasting</th>\n      <th>Wasting in %</th>\n      <th>Overweight</th>\n      <th>Stunting</th>\n      <th>Underweight</th>\n      <th>Total</th>\n    </tr>\n  </thead>\n  <tbody>\n    <tr>\n      <th>0</th>\n      <td>AFGHANISTAN</td>\n      <td>3.033333</td>\n      <td>10.350000</td>\n      <td>5.125000</td>\n      <td>47.775000</td>\n      <td>30.375000</td>\n      <td>48.883333</td>\n    </tr>\n    <tr>\n      <th>1</th>\n      <td>ALBANIA</td>\n      <td>4.075000</td>\n      <td>7.760000</td>\n      <td>20.800000</td>\n      <td>24.160000</td>\n      <td>7.700000</td>\n      <td>40.335000</td>\n    </tr>\n    <tr>\n      <th>2</th>\n      <td>ALGERIA</td>\n      <td>2.733333</td>\n      <td>5.942857</td>\n      <td>12.833333</td>\n      <td>19.571429</td>\n      <td>7.342857</td>\n      <td>28.852381</td>\n    </tr>\n    <tr>\n      <th>3</th>\n      <td>ANGOLA</td>\n      <td>2.400000</td>\n      <td>6.933333</td>\n      <td>2.550000</td>\n      <td>42.633333</td>\n      <td>23.600000</td>\n      <td>35.483333</td>\n    </tr>\n    <tr>\n      <th>4</th>\n      <td>ARGENTINA</td>\n      <td>0.200000</td>\n      <td>2.150000</td>\n      <td>11.125000</td>\n      <td>10.025000</td>\n      <td>2.600000</td>\n      <td>16.075000</td>\n    </tr>\n  </tbody>\n</table>\n</div>"
     },
     "metadata": {},
     "execution_count": 19
    }
   ],
   "source": [
    "df_malnutrition.head()"
   ]
  },
  {
   "cell_type": "code",
   "execution_count": 20,
   "metadata": {},
   "outputs": [],
   "source": [
    "df_malnutrition.to_csv('./malnutrition_for_pie_chart.csv',  index=False)"
   ]
  },
  {
   "cell_type": "code",
   "execution_count": 21,
   "metadata": {},
   "outputs": [],
   "source": [
    "df_malnutrition.to_json('./malnutrition_for_pie_chart.json', index=False,  orient=\"table\")"
   ]
  },
  {
   "cell_type": "code",
   "execution_count": null,
   "metadata": {},
   "outputs": [],
   "source": []
  }
 ]
}