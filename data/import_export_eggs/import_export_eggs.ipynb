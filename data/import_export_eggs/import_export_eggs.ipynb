{
 "cells": [
  {
   "cell_type": "code",
   "execution_count": 1,
   "metadata": {},
   "outputs": [],
   "source": [
    "import pandas as pd"
   ]
  },
  {
   "cell_type": "code",
   "execution_count": 2,
   "metadata": {},
   "outputs": [],
   "source": [
    "df_raw = pd.read_csv('./FAOSTAT_data_8-16-2020_import_export.csv', encoding='utf-8')"
   ]
  },
  {
   "cell_type": "code",
   "execution_count": 3,
   "metadata": {},
   "outputs": [
    {
     "output_type": "execute_result",
     "data": {
      "text/plain": "(123354, 16)"
     },
     "metadata": {},
     "execution_count": 3
    }
   ],
   "source": [
    "df_raw.shape"
   ]
  },
  {
   "cell_type": "code",
   "execution_count": 4,
   "metadata": {
    "tags": []
   },
   "outputs": [
    {
     "output_type": "stream",
     "name": "stdout",
     "text": "import (55838, 16)\n"
    },
    {
     "output_type": "execute_result",
     "data": {
      "text/plain": "  Domain Code                 Domain  Reporter Country Code  \\\n0          TM  Detailed trade matrix                      2   \n1          TM  Detailed trade matrix                      2   \n2          TM  Detailed trade matrix                      2   \n3          TM  Detailed trade matrix                      2   \n4          TM  Detailed trade matrix                      2   \n\n  Reporter Countries  Partner Country Code Partner Countries  Element Code  \\\n0        Afghanistan                    52        Azerbaijan          5610   \n1        Afghanistan                   255           Belgium          5610   \n2        Afghanistan                   255           Belgium          5610   \n3        Afghanistan                    41   China, mainland          5610   \n4        Afghanistan                    79           Germany          5610   \n\n           Element  Item Code                        Item  Year Code  Year  \\\n0  Import Quantity       1062         Eggs, hen, in shell       2018  2018   \n1  Import Quantity       1062         Eggs, hen, in shell       2017  2017   \n2  Import Quantity       1091  Eggs, other bird, in shell       2015  2015   \n3  Import Quantity       1062         Eggs, hen, in shell       2010  2010   \n4  Import Quantity       1062         Eggs, hen, in shell       2014  2014   \n\n     Unit  Value Flag   Flag Description  \n0  tonnes     76    *  Unofficial figure  \n1  tonnes      8    *  Unofficial figure  \n2  tonnes      7    *  Unofficial figure  \n3  tonnes    192  NaN      Official data  \n4  tonnes      1    *  Unofficial figure  ",
      "text/html": "<div>\n<style scoped>\n    .dataframe tbody tr th:only-of-type {\n        vertical-align: middle;\n    }\n\n    .dataframe tbody tr th {\n        vertical-align: top;\n    }\n\n    .dataframe thead th {\n        text-align: right;\n    }\n</style>\n<table border=\"1\" class=\"dataframe\">\n  <thead>\n    <tr style=\"text-align: right;\">\n      <th></th>\n      <th>Domain Code</th>\n      <th>Domain</th>\n      <th>Reporter Country Code</th>\n      <th>Reporter Countries</th>\n      <th>Partner Country Code</th>\n      <th>Partner Countries</th>\n      <th>Element Code</th>\n      <th>Element</th>\n      <th>Item Code</th>\n      <th>Item</th>\n      <th>Year Code</th>\n      <th>Year</th>\n      <th>Unit</th>\n      <th>Value</th>\n      <th>Flag</th>\n      <th>Flag Description</th>\n    </tr>\n  </thead>\n  <tbody>\n    <tr>\n      <th>0</th>\n      <td>TM</td>\n      <td>Detailed trade matrix</td>\n      <td>2</td>\n      <td>Afghanistan</td>\n      <td>52</td>\n      <td>Azerbaijan</td>\n      <td>5610</td>\n      <td>Import Quantity</td>\n      <td>1062</td>\n      <td>Eggs, hen, in shell</td>\n      <td>2018</td>\n      <td>2018</td>\n      <td>tonnes</td>\n      <td>76</td>\n      <td>*</td>\n      <td>Unofficial figure</td>\n    </tr>\n    <tr>\n      <th>1</th>\n      <td>TM</td>\n      <td>Detailed trade matrix</td>\n      <td>2</td>\n      <td>Afghanistan</td>\n      <td>255</td>\n      <td>Belgium</td>\n      <td>5610</td>\n      <td>Import Quantity</td>\n      <td>1062</td>\n      <td>Eggs, hen, in shell</td>\n      <td>2017</td>\n      <td>2017</td>\n      <td>tonnes</td>\n      <td>8</td>\n      <td>*</td>\n      <td>Unofficial figure</td>\n    </tr>\n    <tr>\n      <th>2</th>\n      <td>TM</td>\n      <td>Detailed trade matrix</td>\n      <td>2</td>\n      <td>Afghanistan</td>\n      <td>255</td>\n      <td>Belgium</td>\n      <td>5610</td>\n      <td>Import Quantity</td>\n      <td>1091</td>\n      <td>Eggs, other bird, in shell</td>\n      <td>2015</td>\n      <td>2015</td>\n      <td>tonnes</td>\n      <td>7</td>\n      <td>*</td>\n      <td>Unofficial figure</td>\n    </tr>\n    <tr>\n      <th>3</th>\n      <td>TM</td>\n      <td>Detailed trade matrix</td>\n      <td>2</td>\n      <td>Afghanistan</td>\n      <td>41</td>\n      <td>China, mainland</td>\n      <td>5610</td>\n      <td>Import Quantity</td>\n      <td>1062</td>\n      <td>Eggs, hen, in shell</td>\n      <td>2010</td>\n      <td>2010</td>\n      <td>tonnes</td>\n      <td>192</td>\n      <td>NaN</td>\n      <td>Official data</td>\n    </tr>\n    <tr>\n      <th>4</th>\n      <td>TM</td>\n      <td>Detailed trade matrix</td>\n      <td>2</td>\n      <td>Afghanistan</td>\n      <td>79</td>\n      <td>Germany</td>\n      <td>5610</td>\n      <td>Import Quantity</td>\n      <td>1062</td>\n      <td>Eggs, hen, in shell</td>\n      <td>2014</td>\n      <td>2014</td>\n      <td>tonnes</td>\n      <td>1</td>\n      <td>*</td>\n      <td>Unofficial figure</td>\n    </tr>\n  </tbody>\n</table>\n</div>"
     },
     "metadata": {},
     "execution_count": 4
    }
   ],
   "source": [
    "df_import = df_raw[df_raw['Element'] == 'Import Quantity']\n",
    "print('import', df_import.shape)\n",
    "df_import.head()"
   ]
  },
  {
   "cell_type": "code",
   "execution_count": 52,
   "metadata": {},
   "outputs": [],
   "source": [
    "df_import = df_import[['Reporter Countries', 'Year', 'Value']]"
   ]
  },
  {
   "cell_type": "code",
   "execution_count": 53,
   "metadata": {},
   "outputs": [
    {
     "output_type": "execute_result",
     "data": {
      "text/plain": "(55838, 3)"
     },
     "metadata": {},
     "execution_count": 53
    }
   ],
   "source": [
    "df_import.shape"
   ]
  },
  {
   "cell_type": "code",
   "execution_count": 54,
   "metadata": {},
   "outputs": [],
   "source": [
    "df_import_grouped = df_import.groupby( by=[ \"Reporter Countries\", \"Year\"], as_index = False).sum()"
   ]
  },
  {
   "cell_type": "code",
   "execution_count": 55,
   "metadata": {},
   "outputs": [
    {
     "output_type": "execute_result",
     "data": {
      "text/plain": "(3976, 3)"
     },
     "metadata": {},
     "execution_count": 55
    }
   ],
   "source": [
    "df_import_grouped.shape"
   ]
  },
  {
   "cell_type": "code",
   "execution_count": 58,
   "metadata": {},
   "outputs": [
    {
     "output_type": "execute_result",
     "data": {
      "text/plain": "  Reporter Countries  Year  Value\n0        Afghanistan  2009  16105\n1        Afghanistan  2010  12668\n2        Afghanistan  2011  20705\n3        Afghanistan  2014  15405\n4        Afghanistan  2015  11665",
      "text/html": "<div>\n<style scoped>\n    .dataframe tbody tr th:only-of-type {\n        vertical-align: middle;\n    }\n\n    .dataframe tbody tr th {\n        vertical-align: top;\n    }\n\n    .dataframe thead th {\n        text-align: right;\n    }\n</style>\n<table border=\"1\" class=\"dataframe\">\n  <thead>\n    <tr style=\"text-align: right;\">\n      <th></th>\n      <th>Reporter Countries</th>\n      <th>Year</th>\n      <th>Value</th>\n    </tr>\n  </thead>\n  <tbody>\n    <tr>\n      <th>0</th>\n      <td>Afghanistan</td>\n      <td>2009</td>\n      <td>16105</td>\n    </tr>\n    <tr>\n      <th>1</th>\n      <td>Afghanistan</td>\n      <td>2010</td>\n      <td>12668</td>\n    </tr>\n    <tr>\n      <th>2</th>\n      <td>Afghanistan</td>\n      <td>2011</td>\n      <td>20705</td>\n    </tr>\n    <tr>\n      <th>3</th>\n      <td>Afghanistan</td>\n      <td>2014</td>\n      <td>15405</td>\n    </tr>\n    <tr>\n      <th>4</th>\n      <td>Afghanistan</td>\n      <td>2015</td>\n      <td>11665</td>\n    </tr>\n  </tbody>\n</table>\n</div>"
     },
     "metadata": {},
     "execution_count": 58
    }
   ],
   "source": [
    "df_import_grouped.head()"
   ]
  },
  {
   "cell_type": "code",
   "execution_count": 59,
   "metadata": {
    "tags": []
   },
   "outputs": [],
   "source": [
    "df_import_grouped.to_json('./import_data.json', index=False, orient=\"table\" )"
   ]
  },
  {
   "cell_type": "code",
   "execution_count": 60,
   "metadata": {},
   "outputs": [],
   "source": [
    "df_import_grouped.to_csv('./import_data.csv', index=False)"
   ]
  },
  {
   "cell_type": "code",
   "execution_count": 16,
   "metadata": {
    "tags": []
   },
   "outputs": [
    {
     "output_type": "stream",
     "name": "stdout",
     "text": "export (67516, 16)\n"
    },
    {
     "output_type": "execute_result",
     "data": {
      "text/plain": "    Domain Code                 Domain  Reporter Country Code  \\\n7            TM  Detailed trade matrix                      2   \n58           TM  Detailed trade matrix                      2   \n95           TM  Detailed trade matrix                      3   \n96           TM  Detailed trade matrix                      3   \n97           TM  Detailed trade matrix                      3   \n127          TM  Detailed trade matrix                      3   \n128          TM  Detailed trade matrix                      3   \n129          TM  Detailed trade matrix                      3   \n130          TM  Detailed trade matrix                      3   \n131          TM  Detailed trade matrix                      3   \n132          TM  Detailed trade matrix                      3   \n133          TM  Detailed trade matrix                      3   \n134          TM  Detailed trade matrix                      3   \n157          TM  Detailed trade matrix                      3   \n166          TM  Detailed trade matrix                      3   \n182          TM  Detailed trade matrix                      3   \n183          TM  Detailed trade matrix                      3   \n184          TM  Detailed trade matrix                      3   \n185          TM  Detailed trade matrix                      3   \n186          TM  Detailed trade matrix                      3   \n187          TM  Detailed trade matrix                      3   \n188          TM  Detailed trade matrix                      3   \n189          TM  Detailed trade matrix                      3   \n190          TM  Detailed trade matrix                      3   \n207          TM  Detailed trade matrix                      3   \n208          TM  Detailed trade matrix                      3   \n209          TM  Detailed trade matrix                      3   \n210          TM  Detailed trade matrix                      3   \n226          TM  Detailed trade matrix                      3   \n227          TM  Detailed trade matrix                      3   \n\n    Reporter Countries  Partner Country Code Partner Countries  Element Code  \\\n7          Afghanistan                    79           Germany          5910   \n58         Afghanistan                   196        Seychelles          5910   \n95             Albania                    98           Croatia          5910   \n96             Albania                    98           Croatia          5910   \n97             Albania                    98           Croatia          5910   \n127            Albania                    84            Greece          5910   \n128            Albania                    84            Greece          5910   \n129            Albania                    84            Greece          5910   \n130            Albania                    84            Greece          5910   \n131            Albania                    84            Greece          5910   \n132            Albania                    84            Greece          5910   \n133            Albania                    84            Greece          5910   \n134            Albania                    84            Greece          5910   \n157            Albania                    84            Greece          5910   \n166            Albania                   106             Italy          5910   \n182            Albania                   106             Italy          5910   \n183            Albania                   106             Italy          5910   \n184            Albania                   106             Italy          5910   \n185            Albania                   106             Italy          5910   \n186            Albania                   106             Italy          5910   \n187            Albania                   106             Italy          5910   \n188            Albania                   106             Italy          5910   \n189            Albania                   106             Italy          5910   \n190            Albania                   106             Italy          5910   \n207            Albania                   106             Italy          5910   \n208            Albania                   106             Italy          5910   \n209            Albania                    83          Kiribati          5910   \n210            Albania                   134             Malta          5910   \n226            Albania                   183           Romania          5910   \n227            Albania                   183           Romania          5910   \n\n             Element  Item Code                        Item  Year Code  Year  \\\n7    Export Quantity       1063                Eggs, liquid       2015  2015   \n58   Export Quantity       1062         Eggs, hen, in shell       2014  2014   \n95   Export Quantity       1062         Eggs, hen, in shell       2012  2012   \n96   Export Quantity       1062         Eggs, hen, in shell       2013  2013   \n97   Export Quantity       1062         Eggs, hen, in shell       2017  2017   \n127  Export Quantity       1062         Eggs, hen, in shell       2010  2010   \n128  Export Quantity       1062         Eggs, hen, in shell       2011  2011   \n129  Export Quantity       1062         Eggs, hen, in shell       2012  2012   \n130  Export Quantity       1062         Eggs, hen, in shell       2013  2013   \n131  Export Quantity       1062         Eggs, hen, in shell       2015  2015   \n132  Export Quantity       1062         Eggs, hen, in shell       2016  2016   \n133  Export Quantity       1062         Eggs, hen, in shell       2017  2017   \n134  Export Quantity       1062         Eggs, hen, in shell       2018  2018   \n157  Export Quantity       1091  Eggs, other bird, in shell       2012  2012   \n166  Export Quantity       1064                 Eggs, dried       2010  2010   \n182  Export Quantity       1062         Eggs, hen, in shell       2004  2004   \n183  Export Quantity       1062         Eggs, hen, in shell       2006  2006   \n184  Export Quantity       1062         Eggs, hen, in shell       2007  2007   \n185  Export Quantity       1062         Eggs, hen, in shell       2008  2008   \n186  Export Quantity       1062         Eggs, hen, in shell       2009  2009   \n187  Export Quantity       1062         Eggs, hen, in shell       2010  2010   \n188  Export Quantity       1062         Eggs, hen, in shell       2011  2011   \n189  Export Quantity       1062         Eggs, hen, in shell       2012  2012   \n190  Export Quantity       1062         Eggs, hen, in shell       2013  2013   \n207  Export Quantity       1091  Eggs, other bird, in shell       2010  2010   \n208  Export Quantity       1091  Eggs, other bird, in shell       2012  2012   \n209  Export Quantity       1062         Eggs, hen, in shell       2013  2013   \n210  Export Quantity       1062         Eggs, hen, in shell       2009  2009   \n226  Export Quantity       1062         Eggs, hen, in shell       2009  2009   \n227  Export Quantity       1062         Eggs, hen, in shell       2011  2011   \n\n       Unit  Value Flag                                Flag Description  \n7    tonnes      0    *                               Unofficial figure  \n58   tonnes      0    *                               Unofficial figure  \n95   tonnes    215  NaN                                   Official data  \n96   tonnes     18  NaN                                   Official data  \n97   tonnes    149    *                               Unofficial figure  \n127  tonnes    687  NaN                                   Official data  \n128  tonnes    539  NaN                                   Official data  \n129  tonnes   1401  NaN                                   Official data  \n130  tonnes    336  NaN                                   Official data  \n131  tonnes   1349  NaN                                   Official data  \n132  tonnes    767  NaN                                   Official data  \n133  tonnes   1177    R  Estimated data using trading partners database  \n134  tonnes    347  NaN                                   Official data  \n157  tonnes     35  NaN                                   Official data  \n166  tonnes     19  NaN                                   Official data  \n182  tonnes     16  NaN                                   Official data  \n183  tonnes    102  NaN                                   Official data  \n184  tonnes   2060  NaN                                   Official data  \n185  tonnes   2209  NaN                                   Official data  \n186  tonnes   1643  NaN                                   Official data  \n187  tonnes   2454  NaN                                   Official data  \n188  tonnes    361  NaN                                   Official data  \n189  tonnes    823  NaN                                   Official data  \n190  tonnes     34  NaN                                   Official data  \n207  tonnes     34  NaN                                   Official data  \n208  tonnes     17  NaN                                   Official data  \n209  tonnes     17  NaN                                   Official data  \n210  tonnes     16  NaN                                   Official data  \n226  tonnes     36  NaN                                   Official data  \n227  tonnes    424  NaN                                   Official data  ",
      "text/html": "<div>\n<style scoped>\n    .dataframe tbody tr th:only-of-type {\n        vertical-align: middle;\n    }\n\n    .dataframe tbody tr th {\n        vertical-align: top;\n    }\n\n    .dataframe thead th {\n        text-align: right;\n    }\n</style>\n<table border=\"1\" class=\"dataframe\">\n  <thead>\n    <tr style=\"text-align: right;\">\n      <th></th>\n      <th>Domain Code</th>\n      <th>Domain</th>\n      <th>Reporter Country Code</th>\n      <th>Reporter Countries</th>\n      <th>Partner Country Code</th>\n      <th>Partner Countries</th>\n      <th>Element Code</th>\n      <th>Element</th>\n      <th>Item Code</th>\n      <th>Item</th>\n      <th>Year Code</th>\n      <th>Year</th>\n      <th>Unit</th>\n      <th>Value</th>\n      <th>Flag</th>\n      <th>Flag Description</th>\n    </tr>\n  </thead>\n  <tbody>\n    <tr>\n      <th>7</th>\n      <td>TM</td>\n      <td>Detailed trade matrix</td>\n      <td>2</td>\n      <td>Afghanistan</td>\n      <td>79</td>\n      <td>Germany</td>\n      <td>5910</td>\n      <td>Export Quantity</td>\n      <td>1063</td>\n      <td>Eggs, liquid</td>\n      <td>2015</td>\n      <td>2015</td>\n      <td>tonnes</td>\n      <td>0</td>\n      <td>*</td>\n      <td>Unofficial figure</td>\n    </tr>\n    <tr>\n      <th>58</th>\n      <td>TM</td>\n      <td>Detailed trade matrix</td>\n      <td>2</td>\n      <td>Afghanistan</td>\n      <td>196</td>\n      <td>Seychelles</td>\n      <td>5910</td>\n      <td>Export Quantity</td>\n      <td>1062</td>\n      <td>Eggs, hen, in shell</td>\n      <td>2014</td>\n      <td>2014</td>\n      <td>tonnes</td>\n      <td>0</td>\n      <td>*</td>\n      <td>Unofficial figure</td>\n    </tr>\n    <tr>\n      <th>95</th>\n      <td>TM</td>\n      <td>Detailed trade matrix</td>\n      <td>3</td>\n      <td>Albania</td>\n      <td>98</td>\n      <td>Croatia</td>\n      <td>5910</td>\n      <td>Export Quantity</td>\n      <td>1062</td>\n      <td>Eggs, hen, in shell</td>\n      <td>2012</td>\n      <td>2012</td>\n      <td>tonnes</td>\n      <td>215</td>\n      <td>NaN</td>\n      <td>Official data</td>\n    </tr>\n    <tr>\n      <th>96</th>\n      <td>TM</td>\n      <td>Detailed trade matrix</td>\n      <td>3</td>\n      <td>Albania</td>\n      <td>98</td>\n      <td>Croatia</td>\n      <td>5910</td>\n      <td>Export Quantity</td>\n      <td>1062</td>\n      <td>Eggs, hen, in shell</td>\n      <td>2013</td>\n      <td>2013</td>\n      <td>tonnes</td>\n      <td>18</td>\n      <td>NaN</td>\n      <td>Official data</td>\n    </tr>\n    <tr>\n      <th>97</th>\n      <td>TM</td>\n      <td>Detailed trade matrix</td>\n      <td>3</td>\n      <td>Albania</td>\n      <td>98</td>\n      <td>Croatia</td>\n      <td>5910</td>\n      <td>Export Quantity</td>\n      <td>1062</td>\n      <td>Eggs, hen, in shell</td>\n      <td>2017</td>\n      <td>2017</td>\n      <td>tonnes</td>\n      <td>149</td>\n      <td>*</td>\n      <td>Unofficial figure</td>\n    </tr>\n    <tr>\n      <th>127</th>\n      <td>TM</td>\n      <td>Detailed trade matrix</td>\n      <td>3</td>\n      <td>Albania</td>\n      <td>84</td>\n      <td>Greece</td>\n      <td>5910</td>\n      <td>Export Quantity</td>\n      <td>1062</td>\n      <td>Eggs, hen, in shell</td>\n      <td>2010</td>\n      <td>2010</td>\n      <td>tonnes</td>\n      <td>687</td>\n      <td>NaN</td>\n      <td>Official data</td>\n    </tr>\n    <tr>\n      <th>128</th>\n      <td>TM</td>\n      <td>Detailed trade matrix</td>\n      <td>3</td>\n      <td>Albania</td>\n      <td>84</td>\n      <td>Greece</td>\n      <td>5910</td>\n      <td>Export Quantity</td>\n      <td>1062</td>\n      <td>Eggs, hen, in shell</td>\n      <td>2011</td>\n      <td>2011</td>\n      <td>tonnes</td>\n      <td>539</td>\n      <td>NaN</td>\n      <td>Official data</td>\n    </tr>\n    <tr>\n      <th>129</th>\n      <td>TM</td>\n      <td>Detailed trade matrix</td>\n      <td>3</td>\n      <td>Albania</td>\n      <td>84</td>\n      <td>Greece</td>\n      <td>5910</td>\n      <td>Export Quantity</td>\n      <td>1062</td>\n      <td>Eggs, hen, in shell</td>\n      <td>2012</td>\n      <td>2012</td>\n      <td>tonnes</td>\n      <td>1401</td>\n      <td>NaN</td>\n      <td>Official data</td>\n    </tr>\n    <tr>\n      <th>130</th>\n      <td>TM</td>\n      <td>Detailed trade matrix</td>\n      <td>3</td>\n      <td>Albania</td>\n      <td>84</td>\n      <td>Greece</td>\n      <td>5910</td>\n      <td>Export Quantity</td>\n      <td>1062</td>\n      <td>Eggs, hen, in shell</td>\n      <td>2013</td>\n      <td>2013</td>\n      <td>tonnes</td>\n      <td>336</td>\n      <td>NaN</td>\n      <td>Official data</td>\n    </tr>\n    <tr>\n      <th>131</th>\n      <td>TM</td>\n      <td>Detailed trade matrix</td>\n      <td>3</td>\n      <td>Albania</td>\n      <td>84</td>\n      <td>Greece</td>\n      <td>5910</td>\n      <td>Export Quantity</td>\n      <td>1062</td>\n      <td>Eggs, hen, in shell</td>\n      <td>2015</td>\n      <td>2015</td>\n      <td>tonnes</td>\n      <td>1349</td>\n      <td>NaN</td>\n      <td>Official data</td>\n    </tr>\n    <tr>\n      <th>132</th>\n      <td>TM</td>\n      <td>Detailed trade matrix</td>\n      <td>3</td>\n      <td>Albania</td>\n      <td>84</td>\n      <td>Greece</td>\n      <td>5910</td>\n      <td>Export Quantity</td>\n      <td>1062</td>\n      <td>Eggs, hen, in shell</td>\n      <td>2016</td>\n      <td>2016</td>\n      <td>tonnes</td>\n      <td>767</td>\n      <td>NaN</td>\n      <td>Official data</td>\n    </tr>\n    <tr>\n      <th>133</th>\n      <td>TM</td>\n      <td>Detailed trade matrix</td>\n      <td>3</td>\n      <td>Albania</td>\n      <td>84</td>\n      <td>Greece</td>\n      <td>5910</td>\n      <td>Export Quantity</td>\n      <td>1062</td>\n      <td>Eggs, hen, in shell</td>\n      <td>2017</td>\n      <td>2017</td>\n      <td>tonnes</td>\n      <td>1177</td>\n      <td>R</td>\n      <td>Estimated data using trading partners database</td>\n    </tr>\n    <tr>\n      <th>134</th>\n      <td>TM</td>\n      <td>Detailed trade matrix</td>\n      <td>3</td>\n      <td>Albania</td>\n      <td>84</td>\n      <td>Greece</td>\n      <td>5910</td>\n      <td>Export Quantity</td>\n      <td>1062</td>\n      <td>Eggs, hen, in shell</td>\n      <td>2018</td>\n      <td>2018</td>\n      <td>tonnes</td>\n      <td>347</td>\n      <td>NaN</td>\n      <td>Official data</td>\n    </tr>\n    <tr>\n      <th>157</th>\n      <td>TM</td>\n      <td>Detailed trade matrix</td>\n      <td>3</td>\n      <td>Albania</td>\n      <td>84</td>\n      <td>Greece</td>\n      <td>5910</td>\n      <td>Export Quantity</td>\n      <td>1091</td>\n      <td>Eggs, other bird, in shell</td>\n      <td>2012</td>\n      <td>2012</td>\n      <td>tonnes</td>\n      <td>35</td>\n      <td>NaN</td>\n      <td>Official data</td>\n    </tr>\n    <tr>\n      <th>166</th>\n      <td>TM</td>\n      <td>Detailed trade matrix</td>\n      <td>3</td>\n      <td>Albania</td>\n      <td>106</td>\n      <td>Italy</td>\n      <td>5910</td>\n      <td>Export Quantity</td>\n      <td>1064</td>\n      <td>Eggs, dried</td>\n      <td>2010</td>\n      <td>2010</td>\n      <td>tonnes</td>\n      <td>19</td>\n      <td>NaN</td>\n      <td>Official data</td>\n    </tr>\n    <tr>\n      <th>182</th>\n      <td>TM</td>\n      <td>Detailed trade matrix</td>\n      <td>3</td>\n      <td>Albania</td>\n      <td>106</td>\n      <td>Italy</td>\n      <td>5910</td>\n      <td>Export Quantity</td>\n      <td>1062</td>\n      <td>Eggs, hen, in shell</td>\n      <td>2004</td>\n      <td>2004</td>\n      <td>tonnes</td>\n      <td>16</td>\n      <td>NaN</td>\n      <td>Official data</td>\n    </tr>\n    <tr>\n      <th>183</th>\n      <td>TM</td>\n      <td>Detailed trade matrix</td>\n      <td>3</td>\n      <td>Albania</td>\n      <td>106</td>\n      <td>Italy</td>\n      <td>5910</td>\n      <td>Export Quantity</td>\n      <td>1062</td>\n      <td>Eggs, hen, in shell</td>\n      <td>2006</td>\n      <td>2006</td>\n      <td>tonnes</td>\n      <td>102</td>\n      <td>NaN</td>\n      <td>Official data</td>\n    </tr>\n    <tr>\n      <th>184</th>\n      <td>TM</td>\n      <td>Detailed trade matrix</td>\n      <td>3</td>\n      <td>Albania</td>\n      <td>106</td>\n      <td>Italy</td>\n      <td>5910</td>\n      <td>Export Quantity</td>\n      <td>1062</td>\n      <td>Eggs, hen, in shell</td>\n      <td>2007</td>\n      <td>2007</td>\n      <td>tonnes</td>\n      <td>2060</td>\n      <td>NaN</td>\n      <td>Official data</td>\n    </tr>\n    <tr>\n      <th>185</th>\n      <td>TM</td>\n      <td>Detailed trade matrix</td>\n      <td>3</td>\n      <td>Albania</td>\n      <td>106</td>\n      <td>Italy</td>\n      <td>5910</td>\n      <td>Export Quantity</td>\n      <td>1062</td>\n      <td>Eggs, hen, in shell</td>\n      <td>2008</td>\n      <td>2008</td>\n      <td>tonnes</td>\n      <td>2209</td>\n      <td>NaN</td>\n      <td>Official data</td>\n    </tr>\n    <tr>\n      <th>186</th>\n      <td>TM</td>\n      <td>Detailed trade matrix</td>\n      <td>3</td>\n      <td>Albania</td>\n      <td>106</td>\n      <td>Italy</td>\n      <td>5910</td>\n      <td>Export Quantity</td>\n      <td>1062</td>\n      <td>Eggs, hen, in shell</td>\n      <td>2009</td>\n      <td>2009</td>\n      <td>tonnes</td>\n      <td>1643</td>\n      <td>NaN</td>\n      <td>Official data</td>\n    </tr>\n    <tr>\n      <th>187</th>\n      <td>TM</td>\n      <td>Detailed trade matrix</td>\n      <td>3</td>\n      <td>Albania</td>\n      <td>106</td>\n      <td>Italy</td>\n      <td>5910</td>\n      <td>Export Quantity</td>\n      <td>1062</td>\n      <td>Eggs, hen, in shell</td>\n      <td>2010</td>\n      <td>2010</td>\n      <td>tonnes</td>\n      <td>2454</td>\n      <td>NaN</td>\n      <td>Official data</td>\n    </tr>\n    <tr>\n      <th>188</th>\n      <td>TM</td>\n      <td>Detailed trade matrix</td>\n      <td>3</td>\n      <td>Albania</td>\n      <td>106</td>\n      <td>Italy</td>\n      <td>5910</td>\n      <td>Export Quantity</td>\n      <td>1062</td>\n      <td>Eggs, hen, in shell</td>\n      <td>2011</td>\n      <td>2011</td>\n      <td>tonnes</td>\n      <td>361</td>\n      <td>NaN</td>\n      <td>Official data</td>\n    </tr>\n    <tr>\n      <th>189</th>\n      <td>TM</td>\n      <td>Detailed trade matrix</td>\n      <td>3</td>\n      <td>Albania</td>\n      <td>106</td>\n      <td>Italy</td>\n      <td>5910</td>\n      <td>Export Quantity</td>\n      <td>1062</td>\n      <td>Eggs, hen, in shell</td>\n      <td>2012</td>\n      <td>2012</td>\n      <td>tonnes</td>\n      <td>823</td>\n      <td>NaN</td>\n      <td>Official data</td>\n    </tr>\n    <tr>\n      <th>190</th>\n      <td>TM</td>\n      <td>Detailed trade matrix</td>\n      <td>3</td>\n      <td>Albania</td>\n      <td>106</td>\n      <td>Italy</td>\n      <td>5910</td>\n      <td>Export Quantity</td>\n      <td>1062</td>\n      <td>Eggs, hen, in shell</td>\n      <td>2013</td>\n      <td>2013</td>\n      <td>tonnes</td>\n      <td>34</td>\n      <td>NaN</td>\n      <td>Official data</td>\n    </tr>\n    <tr>\n      <th>207</th>\n      <td>TM</td>\n      <td>Detailed trade matrix</td>\n      <td>3</td>\n      <td>Albania</td>\n      <td>106</td>\n      <td>Italy</td>\n      <td>5910</td>\n      <td>Export Quantity</td>\n      <td>1091</td>\n      <td>Eggs, other bird, in shell</td>\n      <td>2010</td>\n      <td>2010</td>\n      <td>tonnes</td>\n      <td>34</td>\n      <td>NaN</td>\n      <td>Official data</td>\n    </tr>\n    <tr>\n      <th>208</th>\n      <td>TM</td>\n      <td>Detailed trade matrix</td>\n      <td>3</td>\n      <td>Albania</td>\n      <td>106</td>\n      <td>Italy</td>\n      <td>5910</td>\n      <td>Export Quantity</td>\n      <td>1091</td>\n      <td>Eggs, other bird, in shell</td>\n      <td>2012</td>\n      <td>2012</td>\n      <td>tonnes</td>\n      <td>17</td>\n      <td>NaN</td>\n      <td>Official data</td>\n    </tr>\n    <tr>\n      <th>209</th>\n      <td>TM</td>\n      <td>Detailed trade matrix</td>\n      <td>3</td>\n      <td>Albania</td>\n      <td>83</td>\n      <td>Kiribati</td>\n      <td>5910</td>\n      <td>Export Quantity</td>\n      <td>1062</td>\n      <td>Eggs, hen, in shell</td>\n      <td>2013</td>\n      <td>2013</td>\n      <td>tonnes</td>\n      <td>17</td>\n      <td>NaN</td>\n      <td>Official data</td>\n    </tr>\n    <tr>\n      <th>210</th>\n      <td>TM</td>\n      <td>Detailed trade matrix</td>\n      <td>3</td>\n      <td>Albania</td>\n      <td>134</td>\n      <td>Malta</td>\n      <td>5910</td>\n      <td>Export Quantity</td>\n      <td>1062</td>\n      <td>Eggs, hen, in shell</td>\n      <td>2009</td>\n      <td>2009</td>\n      <td>tonnes</td>\n      <td>16</td>\n      <td>NaN</td>\n      <td>Official data</td>\n    </tr>\n    <tr>\n      <th>226</th>\n      <td>TM</td>\n      <td>Detailed trade matrix</td>\n      <td>3</td>\n      <td>Albania</td>\n      <td>183</td>\n      <td>Romania</td>\n      <td>5910</td>\n      <td>Export Quantity</td>\n      <td>1062</td>\n      <td>Eggs, hen, in shell</td>\n      <td>2009</td>\n      <td>2009</td>\n      <td>tonnes</td>\n      <td>36</td>\n      <td>NaN</td>\n      <td>Official data</td>\n    </tr>\n    <tr>\n      <th>227</th>\n      <td>TM</td>\n      <td>Detailed trade matrix</td>\n      <td>3</td>\n      <td>Albania</td>\n      <td>183</td>\n      <td>Romania</td>\n      <td>5910</td>\n      <td>Export Quantity</td>\n      <td>1062</td>\n      <td>Eggs, hen, in shell</td>\n      <td>2011</td>\n      <td>2011</td>\n      <td>tonnes</td>\n      <td>424</td>\n      <td>NaN</td>\n      <td>Official data</td>\n    </tr>\n  </tbody>\n</table>\n</div>"
     },
     "metadata": {},
     "execution_count": 16
    }
   ],
   "source": [
    "df_export = df_raw[df_raw['Element'] == 'Export Quantity']\n",
    "print('export', df_export.shape)\n",
    "df_export.head(30)"
   ]
  },
  {
   "cell_type": "code",
   "execution_count": 36,
   "metadata": {},
   "outputs": [],
   "source": [
    "df_export = df_export[['Reporter Countries', 'Year', 'Value']]"
   ]
  },
  {
   "cell_type": "code",
   "execution_count": 42,
   "metadata": {},
   "outputs": [
    {
     "output_type": "execute_result",
     "data": {
      "text/plain": "   Reporter Countries  Year  Value\n7         Afghanistan  2015      0\n58        Afghanistan  2014      0\n95            Albania  2012    215\n96            Albania  2013     18\n97            Albania  2017    149",
      "text/html": "<div>\n<style scoped>\n    .dataframe tbody tr th:only-of-type {\n        vertical-align: middle;\n    }\n\n    .dataframe tbody tr th {\n        vertical-align: top;\n    }\n\n    .dataframe thead th {\n        text-align: right;\n    }\n</style>\n<table border=\"1\" class=\"dataframe\">\n  <thead>\n    <tr style=\"text-align: right;\">\n      <th></th>\n      <th>Reporter Countries</th>\n      <th>Year</th>\n      <th>Value</th>\n    </tr>\n  </thead>\n  <tbody>\n    <tr>\n      <th>7</th>\n      <td>Afghanistan</td>\n      <td>2015</td>\n      <td>0</td>\n    </tr>\n    <tr>\n      <th>58</th>\n      <td>Afghanistan</td>\n      <td>2014</td>\n      <td>0</td>\n    </tr>\n    <tr>\n      <th>95</th>\n      <td>Albania</td>\n      <td>2012</td>\n      <td>215</td>\n    </tr>\n    <tr>\n      <th>96</th>\n      <td>Albania</td>\n      <td>2013</td>\n      <td>18</td>\n    </tr>\n    <tr>\n      <th>97</th>\n      <td>Albania</td>\n      <td>2017</td>\n      <td>149</td>\n    </tr>\n  </tbody>\n</table>\n</div>"
     },
     "metadata": {},
     "execution_count": 42
    }
   ],
   "source": [
    "df_export.head()"
   ]
  },
  {
   "cell_type": "code",
   "execution_count": 44,
   "metadata": {},
   "outputs": [],
   "source": [
    "df_export_grouped = df_export.groupby( by=[ \"Reporter Countries\", \"Year\"], as_index = False).sum()"
   ]
  },
  {
   "cell_type": "code",
   "execution_count": 48,
   "metadata": {},
   "outputs": [
    {
     "output_type": "execute_result",
     "data": {
      "text/plain": "  Reporter Countries  Year  Value\n0        Afghanistan  2014      0\n1        Afghanistan  2015      0\n2            Albania  2001    587\n3            Albania  2002   1770\n4            Albania  2003    531",
      "text/html": "<div>\n<style scoped>\n    .dataframe tbody tr th:only-of-type {\n        vertical-align: middle;\n    }\n\n    .dataframe tbody tr th {\n        vertical-align: top;\n    }\n\n    .dataframe thead th {\n        text-align: right;\n    }\n</style>\n<table border=\"1\" class=\"dataframe\">\n  <thead>\n    <tr style=\"text-align: right;\">\n      <th></th>\n      <th>Reporter Countries</th>\n      <th>Year</th>\n      <th>Value</th>\n    </tr>\n  </thead>\n  <tbody>\n    <tr>\n      <th>0</th>\n      <td>Afghanistan</td>\n      <td>2014</td>\n      <td>0</td>\n    </tr>\n    <tr>\n      <th>1</th>\n      <td>Afghanistan</td>\n      <td>2015</td>\n      <td>0</td>\n    </tr>\n    <tr>\n      <th>2</th>\n      <td>Albania</td>\n      <td>2001</td>\n      <td>587</td>\n    </tr>\n    <tr>\n      <th>3</th>\n      <td>Albania</td>\n      <td>2002</td>\n      <td>1770</td>\n    </tr>\n    <tr>\n      <th>4</th>\n      <td>Albania</td>\n      <td>2003</td>\n      <td>531</td>\n    </tr>\n  </tbody>\n</table>\n</div>"
     },
     "metadata": {},
     "execution_count": 48
    }
   ],
   "source": [
    "df_export_grouped.head()"
   ]
  },
  {
   "cell_type": "code",
   "execution_count": 51,
   "metadata": {},
   "outputs": [],
   "source": [
    "df_export_grouped.to_json('./export_data.json', index=False, orient=\"table\")"
   ]
  },
  {
   "cell_type": "code",
   "execution_count": 49,
   "metadata": {},
   "outputs": [],
   "source": [
    "df_export_grouped.to_csv('./export_data.csv', index=False)"
   ]
  }
 ],
 "metadata": {
  "kernelspec": {
   "display_name": "Python 3.8.4 64-bit",
   "language": "python",
   "name": "python_defaultSpec_1597577856669"
  },
  "language_info": {
   "codemirror_mode": {
    "name": "ipython",
    "version": 3
   },
   "file_extension": ".py",
   "mimetype": "text/x-python",
   "name": "python",
   "nbconvert_exporter": "python",
   "pygments_lexer": "ipython3",
   "version": "3.8.4-candidate"
  }
 },
 "nbformat": 4,
 "nbformat_minor": 2
}