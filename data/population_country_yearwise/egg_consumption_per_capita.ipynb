{
 "metadata": {
  "language_info": {
   "codemirror_mode": {
    "name": "ipython",
    "version": 3
   },
   "file_extension": ".py",
   "mimetype": "text/x-python",
   "name": "python",
   "nbconvert_exporter": "python",
   "pygments_lexer": "ipython3",
   "version": "3.8.4-candidate"
  },
  "orig_nbformat": 2,
  "kernelspec": {
   "name": "python_defaultSpec_1597552196479",
   "display_name": "Python 3.8.4 64-bit"
  }
 },
 "nbformat": 4,
 "nbformat_minor": 2,
 "cells": [
  {
   "cell_type": "code",
   "execution_count": 15,
   "metadata": {},
   "outputs": [],
   "source": [
    "import pandas as pd\n",
    "import xlrd\n",
    "from IPython.display import display"
   ]
  },
  {
   "cell_type": "markdown",
   "metadata": {},
   "source": [
    "annual population"
   ]
  },
  {
   "cell_type": "code",
   "execution_count": 12,
   "metadata": {},
   "outputs": [
    {
     "output_type": "execute_result",
     "data": {
      "text/plain": "(14915, 15)"
     },
     "metadata": {},
     "execution_count": 12
    }
   ],
   "source": [
    "df_raw = pd.read_csv('./FAOSTAT_data_8-16-2020.csv')\n",
    "df_raw.shape"
   ]
  },
  {
   "cell_type": "code",
   "execution_count": 16,
   "metadata": {},
   "outputs": [],
   "source": [
    "pd.options.display.max_columns = None"
   ]
  },
  {
   "cell_type": "code",
   "execution_count": 18,
   "metadata": {},
   "outputs": [
    {
     "output_type": "execute_result",
     "data": {
      "text/plain": "  Domain Code             Domain  Area Code         Area  Element Code  \\\n0          OA  Annual population          2  Afghanistan           511   \n1          OA  Annual population          2  Afghanistan           511   \n2          OA  Annual population          2  Afghanistan           511   \n3          OA  Annual population          2  Afghanistan           511   \n4          OA  Annual population          2  Afghanistan           511   \n\n                         Element  Item Code                       Item  \\\n0  Total Population - Both sexes       3010  Population - Est. & Proj.   \n1  Total Population - Both sexes       3010  Population - Est. & Proj.   \n2  Total Population - Both sexes       3010  Population - Est. & Proj.   \n3  Total Population - Both sexes       3010  Population - Est. & Proj.   \n4  Total Population - Both sexes       3010  Population - Est. & Proj.   \n\n   Year Code  Year          Unit     Value Flag  \\\n0       1950  1950  1000 persons  7752.118    X   \n1       1951  1951  1000 persons  7840.156    X   \n2       1952  1952  1000 persons  7935.997    X   \n3       1953  1953  1000 persons  8039.694    X   \n4       1954  1954  1000 persons  8151.317    X   \n\n                 Flag Description  \\\n0  International reliable sources   \n1  International reliable sources   \n2  International reliable sources   \n3  International reliable sources   \n4  International reliable sources   \n\n                                                Note  \n0  UNDESA, Population Division – World Population...  \n1                                                NaN  \n2                                                NaN  \n3                                                NaN  \n4                                                NaN  ",
      "text/html": "<div>\n<style scoped>\n    .dataframe tbody tr th:only-of-type {\n        vertical-align: middle;\n    }\n\n    .dataframe tbody tr th {\n        vertical-align: top;\n    }\n\n    .dataframe thead th {\n        text-align: right;\n    }\n</style>\n<table border=\"1\" class=\"dataframe\">\n  <thead>\n    <tr style=\"text-align: right;\">\n      <th></th>\n      <th>Domain Code</th>\n      <th>Domain</th>\n      <th>Area Code</th>\n      <th>Area</th>\n      <th>Element Code</th>\n      <th>Element</th>\n      <th>Item Code</th>\n      <th>Item</th>\n      <th>Year Code</th>\n      <th>Year</th>\n      <th>Unit</th>\n      <th>Value</th>\n      <th>Flag</th>\n      <th>Flag Description</th>\n      <th>Note</th>\n    </tr>\n  </thead>\n  <tbody>\n    <tr>\n      <th>0</th>\n      <td>OA</td>\n      <td>Annual population</td>\n      <td>2</td>\n      <td>Afghanistan</td>\n      <td>511</td>\n      <td>Total Population - Both sexes</td>\n      <td>3010</td>\n      <td>Population - Est. &amp; Proj.</td>\n      <td>1950</td>\n      <td>1950</td>\n      <td>1000 persons</td>\n      <td>7752.118</td>\n      <td>X</td>\n      <td>International reliable sources</td>\n      <td>UNDESA, Population Division – World Population...</td>\n    </tr>\n    <tr>\n      <th>1</th>\n      <td>OA</td>\n      <td>Annual population</td>\n      <td>2</td>\n      <td>Afghanistan</td>\n      <td>511</td>\n      <td>Total Population - Both sexes</td>\n      <td>3010</td>\n      <td>Population - Est. &amp; Proj.</td>\n      <td>1951</td>\n      <td>1951</td>\n      <td>1000 persons</td>\n      <td>7840.156</td>\n      <td>X</td>\n      <td>International reliable sources</td>\n      <td>NaN</td>\n    </tr>\n    <tr>\n      <th>2</th>\n      <td>OA</td>\n      <td>Annual population</td>\n      <td>2</td>\n      <td>Afghanistan</td>\n      <td>511</td>\n      <td>Total Population - Both sexes</td>\n      <td>3010</td>\n      <td>Population - Est. &amp; Proj.</td>\n      <td>1952</td>\n      <td>1952</td>\n      <td>1000 persons</td>\n      <td>7935.997</td>\n      <td>X</td>\n      <td>International reliable sources</td>\n      <td>NaN</td>\n    </tr>\n    <tr>\n      <th>3</th>\n      <td>OA</td>\n      <td>Annual population</td>\n      <td>2</td>\n      <td>Afghanistan</td>\n      <td>511</td>\n      <td>Total Population - Both sexes</td>\n      <td>3010</td>\n      <td>Population - Est. &amp; Proj.</td>\n      <td>1953</td>\n      <td>1953</td>\n      <td>1000 persons</td>\n      <td>8039.694</td>\n      <td>X</td>\n      <td>International reliable sources</td>\n      <td>NaN</td>\n    </tr>\n    <tr>\n      <th>4</th>\n      <td>OA</td>\n      <td>Annual population</td>\n      <td>2</td>\n      <td>Afghanistan</td>\n      <td>511</td>\n      <td>Total Population - Both sexes</td>\n      <td>3010</td>\n      <td>Population - Est. &amp; Proj.</td>\n      <td>1954</td>\n      <td>1954</td>\n      <td>1000 persons</td>\n      <td>8151.317</td>\n      <td>X</td>\n      <td>International reliable sources</td>\n      <td>NaN</td>\n    </tr>\n  </tbody>\n</table>\n</div>"
     },
     "metadata": {},
     "execution_count": 18
    }
   ],
   "source": [
    "df_raw.head()"
   ]
  },
  {
   "cell_type": "code",
   "execution_count": 39,
   "metadata": {},
   "outputs": [],
   "source": [
    "df_raw['Value'] = df_raw['Value'].apply(lambda x: x*1000)"
   ]
  },
  {
   "cell_type": "code",
   "execution_count": 40,
   "metadata": {},
   "outputs": [
    {
     "output_type": "execute_result",
     "data": {
      "text/plain": "  Domain Code             Domain  Area Code         Area  Element Code  \\\n0          OA  Annual population          2  Afghanistan           511   \n1          OA  Annual population          2  Afghanistan           511   \n2          OA  Annual population          2  Afghanistan           511   \n3          OA  Annual population          2  Afghanistan           511   \n4          OA  Annual population          2  Afghanistan           511   \n\n                         Element  Item Code                       Item  \\\n0  Total Population - Both sexes       3010  Population - Est. & Proj.   \n1  Total Population - Both sexes       3010  Population - Est. & Proj.   \n2  Total Population - Both sexes       3010  Population - Est. & Proj.   \n3  Total Population - Both sexes       3010  Population - Est. & Proj.   \n4  Total Population - Both sexes       3010  Population - Est. & Proj.   \n\n   Year Code  Year          Unit      Value Flag  \\\n0       1950  1950  1000 persons  7752118.0    X   \n1       1951  1951  1000 persons  7840156.0    X   \n2       1952  1952  1000 persons  7935997.0    X   \n3       1953  1953  1000 persons  8039694.0    X   \n4       1954  1954  1000 persons  8151317.0    X   \n\n                 Flag Description  \\\n0  International reliable sources   \n1  International reliable sources   \n2  International reliable sources   \n3  International reliable sources   \n4  International reliable sources   \n\n                                                Note  \n0  UNDESA, Population Division – World Population...  \n1                                                NaN  \n2                                                NaN  \n3                                                NaN  \n4                                                NaN  ",
      "text/html": "<div>\n<style scoped>\n    .dataframe tbody tr th:only-of-type {\n        vertical-align: middle;\n    }\n\n    .dataframe tbody tr th {\n        vertical-align: top;\n    }\n\n    .dataframe thead th {\n        text-align: right;\n    }\n</style>\n<table border=\"1\" class=\"dataframe\">\n  <thead>\n    <tr style=\"text-align: right;\">\n      <th></th>\n      <th>Domain Code</th>\n      <th>Domain</th>\n      <th>Area Code</th>\n      <th>Area</th>\n      <th>Element Code</th>\n      <th>Element</th>\n      <th>Item Code</th>\n      <th>Item</th>\n      <th>Year Code</th>\n      <th>Year</th>\n      <th>Unit</th>\n      <th>Value</th>\n      <th>Flag</th>\n      <th>Flag Description</th>\n      <th>Note</th>\n    </tr>\n  </thead>\n  <tbody>\n    <tr>\n      <th>0</th>\n      <td>OA</td>\n      <td>Annual population</td>\n      <td>2</td>\n      <td>Afghanistan</td>\n      <td>511</td>\n      <td>Total Population - Both sexes</td>\n      <td>3010</td>\n      <td>Population - Est. &amp; Proj.</td>\n      <td>1950</td>\n      <td>1950</td>\n      <td>1000 persons</td>\n      <td>7752118.0</td>\n      <td>X</td>\n      <td>International reliable sources</td>\n      <td>UNDESA, Population Division – World Population...</td>\n    </tr>\n    <tr>\n      <th>1</th>\n      <td>OA</td>\n      <td>Annual population</td>\n      <td>2</td>\n      <td>Afghanistan</td>\n      <td>511</td>\n      <td>Total Population - Both sexes</td>\n      <td>3010</td>\n      <td>Population - Est. &amp; Proj.</td>\n      <td>1951</td>\n      <td>1951</td>\n      <td>1000 persons</td>\n      <td>7840156.0</td>\n      <td>X</td>\n      <td>International reliable sources</td>\n      <td>NaN</td>\n    </tr>\n    <tr>\n      <th>2</th>\n      <td>OA</td>\n      <td>Annual population</td>\n      <td>2</td>\n      <td>Afghanistan</td>\n      <td>511</td>\n      <td>Total Population - Both sexes</td>\n      <td>3010</td>\n      <td>Population - Est. &amp; Proj.</td>\n      <td>1952</td>\n      <td>1952</td>\n      <td>1000 persons</td>\n      <td>7935997.0</td>\n      <td>X</td>\n      <td>International reliable sources</td>\n      <td>NaN</td>\n    </tr>\n    <tr>\n      <th>3</th>\n      <td>OA</td>\n      <td>Annual population</td>\n      <td>2</td>\n      <td>Afghanistan</td>\n      <td>511</td>\n      <td>Total Population - Both sexes</td>\n      <td>3010</td>\n      <td>Population - Est. &amp; Proj.</td>\n      <td>1953</td>\n      <td>1953</td>\n      <td>1000 persons</td>\n      <td>8039694.0</td>\n      <td>X</td>\n      <td>International reliable sources</td>\n      <td>NaN</td>\n    </tr>\n    <tr>\n      <th>4</th>\n      <td>OA</td>\n      <td>Annual population</td>\n      <td>2</td>\n      <td>Afghanistan</td>\n      <td>511</td>\n      <td>Total Population - Both sexes</td>\n      <td>3010</td>\n      <td>Population - Est. &amp; Proj.</td>\n      <td>1954</td>\n      <td>1954</td>\n      <td>1000 persons</td>\n      <td>8151317.0</td>\n      <td>X</td>\n      <td>International reliable sources</td>\n      <td>NaN</td>\n    </tr>\n  </tbody>\n</table>\n</div>"
     },
     "metadata": {},
     "execution_count": 40
    }
   ],
   "source": [
    "df_raw.head()"
   ]
  },
  {
   "cell_type": "code",
   "execution_count": 43,
   "metadata": {},
   "outputs": [],
   "source": [
    "dfPopulation = df_raw[['Area','Year', 'Value']]"
   ]
  },
  {
   "cell_type": "code",
   "execution_count": 45,
   "metadata": {},
   "outputs": [],
   "source": [
    "dfPopulation.to_json('./population_country_yearwise.json')"
   ]
  },
  {
   "cell_type": "code",
   "execution_count": 30,
   "metadata": {},
   "outputs": [
    {
     "output_type": "execute_result",
     "data": {
      "text/plain": "(245, 6)"
     },
     "metadata": {},
     "execution_count": 30
    }
   ],
   "source": []
  },
  {
   "cell_type": "code",
   "execution_count": 31,
   "metadata": {},
   "outputs": [
    {
     "output_type": "execute_result",
     "data": {
      "text/plain": "                Area Code  Element Code  Item Code  Year Code    Year  \\\nArea                                                                    \nAfghanistan           2.0         511.0     3010.0     1984.0  1984.0   \nAlbania               3.0         511.0     3010.0     1984.0  1984.0   \nAlgeria               4.0         511.0     3010.0     1984.0  1984.0   \nAmerican Samoa        5.0         511.0     3010.0     1984.0  1984.0   \nAndorra               6.0         511.0     3010.0     1984.0  1984.0   \n\n                       Value  \nArea                          \nAfghanistan     16610.597812  \nAlbania          2533.624246  \nAlgeria         22791.334000  \nAmerican Samoa     39.528420  \nAndorra            45.019333  ",
      "text/html": "<div>\n<style scoped>\n    .dataframe tbody tr th:only-of-type {\n        vertical-align: middle;\n    }\n\n    .dataframe tbody tr th {\n        vertical-align: top;\n    }\n\n    .dataframe thead th {\n        text-align: right;\n    }\n</style>\n<table border=\"1\" class=\"dataframe\">\n  <thead>\n    <tr style=\"text-align: right;\">\n      <th></th>\n      <th>Area Code</th>\n      <th>Element Code</th>\n      <th>Item Code</th>\n      <th>Year Code</th>\n      <th>Year</th>\n      <th>Value</th>\n    </tr>\n    <tr>\n      <th>Area</th>\n      <th></th>\n      <th></th>\n      <th></th>\n      <th></th>\n      <th></th>\n      <th></th>\n    </tr>\n  </thead>\n  <tbody>\n    <tr>\n      <th>Afghanistan</th>\n      <td>2.0</td>\n      <td>511.0</td>\n      <td>3010.0</td>\n      <td>1984.0</td>\n      <td>1984.0</td>\n      <td>16610.597812</td>\n    </tr>\n    <tr>\n      <th>Albania</th>\n      <td>3.0</td>\n      <td>511.0</td>\n      <td>3010.0</td>\n      <td>1984.0</td>\n      <td>1984.0</td>\n      <td>2533.624246</td>\n    </tr>\n    <tr>\n      <th>Algeria</th>\n      <td>4.0</td>\n      <td>511.0</td>\n      <td>3010.0</td>\n      <td>1984.0</td>\n      <td>1984.0</td>\n      <td>22791.334000</td>\n    </tr>\n    <tr>\n      <th>American Samoa</th>\n      <td>5.0</td>\n      <td>511.0</td>\n      <td>3010.0</td>\n      <td>1984.0</td>\n      <td>1984.0</td>\n      <td>39.528420</td>\n    </tr>\n    <tr>\n      <th>Andorra</th>\n      <td>6.0</td>\n      <td>511.0</td>\n      <td>3010.0</td>\n      <td>1984.0</td>\n      <td>1984.0</td>\n      <td>45.019333</td>\n    </tr>\n  </tbody>\n</table>\n</div>"
     },
     "metadata": {},
     "execution_count": 31
    }
   ],
   "source": []
  },
  {
   "cell_type": "code",
   "execution_count": null,
   "metadata": {},
   "outputs": [],
   "source": []
  }
 ]
}